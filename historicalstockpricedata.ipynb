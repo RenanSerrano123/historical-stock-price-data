import numpy as np
import pandas as pd
import matplotlib.pyplot as plt
%matplotlib inline
print("Faça upload de um arquivo CSV")
df=pd.read_csv(input("Qual nome do arquivo CSV desejado? "))
df["Último"] = df["Último"].str.replace(",", ".").astype(float)
df=df[::-1]
y=df["Último"]
x=range(0,4999)
plt.plot(x,y,"b")
(a,b)=np.polyfit(x=range(0,4999),y=df["Último"],deg=1)
y=a*x+b
plt.plot(x,y,"r")
plt.title("Valor da ação")
plt.grid()
plt.xlabel("Data")
plt.ylabel("Valor")
